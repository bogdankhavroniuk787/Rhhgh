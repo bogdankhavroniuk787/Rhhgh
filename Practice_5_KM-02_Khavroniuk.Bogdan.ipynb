{
  "nbformat": 4,
  "nbformat_minor": 0,
  "metadata": {
    "colab": {
      "name": "Practice_5.ipynb",
      "provenance": [],
      "collapsed_sections": [
        "193Kzrii8JCG",
        "3txUK3KJUdkf",
        "n1mNKt9JzLSj"
      ]
    },
    "kernelspec": {
      "name": "Python 3.7.9 64-bit",
      "display_name": "Python 3.7.9 64-bit",
      "metadata": {
        "interpreter": {
          "hash": "cbc1630f6ac27d00c9f4ea5ff59d07a3d2920d2fb3e683b05679c37215caa53f"
        }
      }
    }
  },
  "cells": [
    {
      "cell_type": "markdown",
      "metadata": {
        "id": "FMqboNwO4rVs"
      },
      "source": [
        "# **Курс \"Програмування на мові Python\"**\n",
        "\n",
        "##### Викладачі:\n",
        "##### Борисенко Павло Борисович\n",
        "##### Щьоголєв Максим Олегович\n"
      ]
    },
    {
      "cell_type": "markdown",
      "metadata": {
        "id": "A2T6MigL5Z06"
      },
      "source": [
        "## **Практичне зайняття №5**\n",
        "### Тема: \"Робота з кортежами, множинами та словниками\""
      ]
    },
    {
      "source": [
        "### **Завдання 1 (1,5 бали)**\n",
        "\n",
        "Напишіть програму, яка визначала б, чи можна з літер однієї фрази скласти іншу фразу. Наприклад:\n",
        "\n",
        "\"William Shakespeare\" -> \"A small spark\"\n",
        "\n",
        "Перша фраза містить 11 унікальних літер (хоча деякі повторюються): a, e, h, i, k, l, m, p, r, s та w. Друга фраза містить 7 унікальних літер: a, k, l, m, p, r та s. Кожна з літер другої фрази зустрічається принаймні один раз у першій фразі.\n",
        "\n",
        "1. Обидві фрази повинні вводитись користувачем з клавіатури.\n",
        "\n",
        "2. Скористайтесь властивістю множин у мові програмування Python для виділення колекції унікальних літер.\n",
        "\n",
        "3. У множину не повинні потрапити пробіли, розділові знаки та інші символи, що не є літерами (скористайтесь методом **isalpha()**). Також усі літери мають бути переведені в нижній або верхній регістр (скористайтесь методами **lower()** або **upper()**).\n",
        "\n",
        "4. Зверніть увагу на те, що літери як в першій, так і вдругій фразі можуть повторюватись. Однак множина унікальних літер другої фрази повинна бути підмножиною множини унікальних літер першої фрази.\n",
        "\n",
        "5. У складі змістовного повідомлення програма повинна виводити множину літер першої фрази, множину літер другої фрази, а також змістовне повідомлення про те, чи можна скласти з літер першої фрази другу фразу."
      ],
      "cell_type": "markdown",
      "metadata": {}
    },
    {
      "cell_type": "code",
      "execution_count": 2,
      "metadata": {},
      "outputs": [
        {
          "output_type": "error",
          "ename": "KeyboardInterrupt",
          "evalue": "Interrupted by user",
          "traceback": [
            "\u001b[1;31m---------------------------------------------------------------------------\u001b[0m",
            "\u001b[1;31mKeyboardInterrupt\u001b[0m                         Traceback (most recent call last)",
            "\u001b[1;32m<ipython-input-2-876a08c1ee2b>\u001b[0m in \u001b[0;36m<module>\u001b[1;34m\u001b[0m\n\u001b[0;32m      1\u001b[0m \u001b[1;32mwhile\u001b[0m \u001b[1;32mTrue\u001b[0m \u001b[1;33m:\u001b[0m\u001b[1;33m\u001b[0m\u001b[1;33m\u001b[0m\u001b[0m\n\u001b[0;32m      2\u001b[0m     \u001b[1;32mwhile\u001b[0m \u001b[1;32mTrue\u001b[0m \u001b[1;33m:\u001b[0m\u001b[1;33m\u001b[0m\u001b[1;33m\u001b[0m\u001b[0m\n\u001b[1;32m----> 3\u001b[1;33m          \u001b[0mfraze1\u001b[0m \u001b[1;33m=\u001b[0m \u001b[1;33m(\u001b[0m\u001b[0mstr\u001b[0m\u001b[1;33m(\u001b[0m\u001b[0minput\u001b[0m\u001b[1;33m(\u001b[0m\u001b[1;34m\"Введіть першу фразу > 11 символів :\"\u001b[0m\u001b[1;33m)\u001b[0m\u001b[1;33m)\u001b[0m\u001b[1;33m)\u001b[0m\u001b[1;33m\u001b[0m\u001b[1;33m\u001b[0m\u001b[0m\n\u001b[0m\u001b[0;32m      4\u001b[0m          \u001b[1;32mif\u001b[0m \u001b[0mlen\u001b[0m\u001b[1;33m(\u001b[0m\u001b[0mfraze1\u001b[0m\u001b[1;33m)\u001b[0m\u001b[1;33m<=\u001b[0m\u001b[1;36m11\u001b[0m \u001b[1;33m:\u001b[0m\u001b[1;33m\u001b[0m\u001b[1;33m\u001b[0m\u001b[0m\n\u001b[0;32m      5\u001b[0m              \u001b[0mfraze1\u001b[0m \u001b[1;33m=\u001b[0m \u001b[1;33m(\u001b[0m\u001b[0mstr\u001b[0m\u001b[1;33m(\u001b[0m\u001b[0minput\u001b[0m\u001b[1;33m(\u001b[0m\u001b[1;34m\"Фраза менше 11 символів . Введіть першу фразу :\"\u001b[0m\u001b[1;33m)\u001b[0m\u001b[1;33m)\u001b[0m\u001b[1;33m)\u001b[0m\u001b[1;33m\u001b[0m\u001b[1;33m\u001b[0m\u001b[0m\n",
            "\u001b[1;32m~\\AppData\\Roaming\\Python\\Python37\\site-packages\\ipykernel\\kernelbase.py\u001b[0m in \u001b[0;36mraw_input\u001b[1;34m(self, prompt)\u001b[0m\n\u001b[0;32m    861\u001b[0m             \u001b[0mself\u001b[0m\u001b[1;33m.\u001b[0m\u001b[0m_parent_ident\u001b[0m\u001b[1;33m,\u001b[0m\u001b[1;33m\u001b[0m\u001b[1;33m\u001b[0m\u001b[0m\n\u001b[0;32m    862\u001b[0m             \u001b[0mself\u001b[0m\u001b[1;33m.\u001b[0m\u001b[0m_parent_header\u001b[0m\u001b[1;33m,\u001b[0m\u001b[1;33m\u001b[0m\u001b[1;33m\u001b[0m\u001b[0m\n\u001b[1;32m--> 863\u001b[1;33m             \u001b[0mpassword\u001b[0m\u001b[1;33m=\u001b[0m\u001b[1;32mFalse\u001b[0m\u001b[1;33m,\u001b[0m\u001b[1;33m\u001b[0m\u001b[1;33m\u001b[0m\u001b[0m\n\u001b[0m\u001b[0;32m    864\u001b[0m         )\n\u001b[0;32m    865\u001b[0m \u001b[1;33m\u001b[0m\u001b[0m\n",
            "\u001b[1;32m~\\AppData\\Roaming\\Python\\Python37\\site-packages\\ipykernel\\kernelbase.py\u001b[0m in \u001b[0;36m_input_request\u001b[1;34m(self, prompt, ident, parent, password)\u001b[0m\n\u001b[0;32m    902\u001b[0m             \u001b[1;32mexcept\u001b[0m \u001b[0mKeyboardInterrupt\u001b[0m\u001b[1;33m:\u001b[0m\u001b[1;33m\u001b[0m\u001b[1;33m\u001b[0m\u001b[0m\n\u001b[0;32m    903\u001b[0m                 \u001b[1;31m# re-raise KeyboardInterrupt, to truncate traceback\u001b[0m\u001b[1;33m\u001b[0m\u001b[1;33m\u001b[0m\u001b[1;33m\u001b[0m\u001b[0m\n\u001b[1;32m--> 904\u001b[1;33m                 \u001b[1;32mraise\u001b[0m \u001b[0mKeyboardInterrupt\u001b[0m\u001b[1;33m(\u001b[0m\u001b[1;34m\"Interrupted by user\"\u001b[0m\u001b[1;33m)\u001b[0m \u001b[1;32mfrom\u001b[0m \u001b[1;32mNone\u001b[0m\u001b[1;33m\u001b[0m\u001b[1;33m\u001b[0m\u001b[0m\n\u001b[0m\u001b[0;32m    905\u001b[0m             \u001b[1;32mexcept\u001b[0m \u001b[0mException\u001b[0m \u001b[1;32mas\u001b[0m \u001b[0me\u001b[0m\u001b[1;33m:\u001b[0m\u001b[1;33m\u001b[0m\u001b[1;33m\u001b[0m\u001b[0m\n\u001b[0;32m    906\u001b[0m                 \u001b[0mself\u001b[0m\u001b[1;33m.\u001b[0m\u001b[0mlog\u001b[0m\u001b[1;33m.\u001b[0m\u001b[0mwarning\u001b[0m\u001b[1;33m(\u001b[0m\u001b[1;34m\"Invalid Message:\"\u001b[0m\u001b[1;33m,\u001b[0m \u001b[0mexc_info\u001b[0m\u001b[1;33m=\u001b[0m\u001b[1;32mTrue\u001b[0m\u001b[1;33m)\u001b[0m\u001b[1;33m\u001b[0m\u001b[1;33m\u001b[0m\u001b[0m\n",
            "\u001b[1;31mKeyboardInterrupt\u001b[0m: Interrupted by user"
          ]
        }
      ],
      "source": [
        "while True :\n",
        "    while True :\n",
        "         fraze1 = (str(input(\"Введіть першу фразу > 11 символів :\")))\n",
        "         if len(fraze1)<=11 :\n",
        "             fraze1 = (str(input(\"Фраза менше 11 символів . Введіть першу фразу :\"))) \n",
        "         else :\n",
        "             break\n",
        "    str.isalpha(fraze1)\n",
        "    str.lower(fraze1)\n",
        "    fraze1 =set(fraze1)\n",
        "    while True:\n",
        "        fraze2 = (str(input(\"Фраза менше 7 слів . Введіть другу фразу :\")))\n",
        "        if len(fraze1) <= 7:\n",
        "            fraze2 = (str(input(\"Введіть другу фразу :\")))\n",
        "        else:\n",
        "            break\n",
        "    str.isalpha(fraze2)\n",
        "    str.lower(fraze2)\n",
        "    fraze2 =set(fraze2)\n",
        "    if fraze2.intersection(fraze1) == fraze2 :\n",
        "       print(\"з фрази :\" ,fraze1 ,\" можливо скласти фразу \" , fraze2 )\n",
        "    else :\n",
        "        print(\"з фрази :\" ,fraze1 ,\" не можливо скласти фразу \" , fraze2 )\n",
        "    print(\"\\nБажаєте спробувати ще?\", \"Напишіть так або ні.\", sep=\"\\n\")\n",
        "    while True:\n",
        "        ans = input()\n",
        "        if ans == \"так\" or ans == \"ні\":\n",
        "            break\n",
        "        else:\n",
        "            print(\"Недопустима відповідь. Введіть так або ні.\")\n",
        "    if ans == \"ні\":\n",
        "        print(\"До зустрічі!\")\n",
        "        break\n",
        " \n",
        "\n"
      ]
    },
    {
      "source": [
        "### **Завдання 2 (1,5 бали)**\n",
        "\n",
        "На сотовому телефоні повідомлення пишуться за допомогою кнопок з цифрами. Оскільки кожна кнопка містить кілька символів, потрібно натискати на неї кілька разів, щоб надрукувати деякі з них. Якщо написнути кнопку один раз, генерується перший із доступних для цієї кнопки символів. Якщо натиснути два, три, чотири чи п'ять разів, генеруються другий, третій, четвертий чи п'ятий символи віповідно. Повний перелік кнопок (цифр) та символів, які генеруються за допомогою цих кнопок, подано у таблиці.\n",
        "\n",
        "Кнопка | Символи\n",
        "--- | ---\n",
        "1 | . , ? ! :\n",
        "2 | A B C\n",
        "3 | D E F\n",
        "4 | G H I\n",
        "5 | J K L\n",
        "6 | M N O\n",
        "7 | P Q R S\n",
        "8 | T U V\n",
        "9 | W X Y Z\n",
        "0 | space\n",
        "\n",
        "Напишіть програму, яка генеруватиме номери кнопок, які потрібно натиснути для введення певного рядка, з урахуванням кількості натискань кожної кнопки. Рядок має вводити користувач. Скористайтесь словником для збереження усіх номерів кнопок та переліку символів, що їм відповідають.\n",
        "\n",
        "Наприклад, якщо користувач ввів \"Hello, World!\", програма повинна вивести:\n",
        "\n",
        "4433555555666110966677755531111\n",
        "\n",
        "Програма повинна приймати літери як верхнього, так і нижнього регістрів. Усі символи, які не входять до переліку, поданому у таблиці, повинні ігноруватись програмою."
      ],
      "cell_type": "markdown",
      "metadata": {}
    },
    {
      "cell_type": "code",
      "execution_count": null,
      "metadata": {},
      "outputs": [],
      "source": []
    },
    {
      "cell_type": "code",
      "execution_count": 21,
      "metadata": {},
      "outputs": [
        {
          "output_type": "error",
          "ename": "SyntaxError",
          "evalue": "unexpected EOF while parsing (<ipython-input-21-1a4fc1b3d248>, line 18)",
          "traceback": [
            "\u001b[1;36m  File \u001b[1;32m\"<ipython-input-21-1a4fc1b3d248>\"\u001b[1;36m, line \u001b[1;32m18\u001b[0m\n\u001b[1;33m    \u001b[0m\n\u001b[1;37m    ^\u001b[0m\n\u001b[1;31mSyntaxError\u001b[0m\u001b[1;31m:\u001b[0m unexpected EOF while parsing\n"
          ]
        }
      ],
      "source": [
        "wordlist = str(input(\"введыть ,будь ласка, набір слів\\n \"))\n",
        "wordlist.upper()\n",
        "dictinary={0: (\".,?!\"),\n",
        "           1: (\"ABC\"),\n",
        "           2: (\"DEF\"),\n",
        "           3: (\"GHI\"),\n",
        "           4: (\"JKL\"),\n",
        "           5: (\"MNO\"),\n",
        "           6: (\"PQRS\"),\n",
        "           7: (\"TUV\"),\n",
        "           8: (\"WXYZ\"),\n",
        "           9: ' '}\n",
        "for i in wordlist:\n",
        "    for a in range(10):\n",
        "        if i.upper() in dictinary[a]  :\n",
        "            print(str(a)*(dictinary[a].index(i.upper())+1))\n",
        "\n",
        "\n"
      ]
    },
    {
      "cell_type": "code",
      "execution_count": null,
      "metadata": {},
      "outputs": [],
      "source": []
    },
    {
      "cell_type": "code",
      "execution_count": null,
      "metadata": {},
      "outputs": [],
      "source": []
    }
  ]
}