{
  "nbformat": 4,
  "nbformat_minor": 0,
  "metadata": {
    "colab": {
      "name": "Pranctice_3_KM-01_<name>.ipynb",
      "provenance": [],
      "collapsed_sections": []
    },
    "kernelspec": {
      "name": "Python 3.7.9 64-bit",
      "display_name": "Python 3.7.9 64-bit",
      "metadata": {
        "interpreter": {
          "hash": "cbc1630f6ac27d00c9f4ea5ff59d07a3d2920d2fb3e683b05679c37215caa53f"
        }
      }
    }
  },
  "cells": [
    {
      "cell_type": "markdown",
      "metadata": {
        "id": "1bRxWHr5e8kt"
      },
      "source": [
        "# **Курс \"Програмування на мові Python\"**\n",
        "\n",
        "##### Викладачі:\n",
        "##### Борисенко Павло Борисович\n",
        "##### Щьоголєв Максим Олегович"
      ]
    },
    {
      "cell_type": "markdown",
      "metadata": {
        "id": "buZUwUgFe-kx"
      },
      "source": [
        "## **Практичне зайняття №3**\n",
        "### Тема: \"Перші програми на Python. Введення та виведення даних. Інструкція if\""
      ]
    },
    {
      "cell_type": "markdown",
      "metadata": {
        "id": "PUkxEn8EfAUe"
      },
      "source": [
        "### **Завдання 1 (1,5 бали)**\n",
        "\n"
      ]
    },
    {
      "cell_type": "markdown",
      "metadata": {
        "id": "M7jjwxAvfKa2"
      },
      "source": [
        "**Написати програму введення та виведення даних про одержувача листа (посилки) за стандартами Укрпошти.**\n",
        "\n",
        "1. Усі запити на введення даних повинні супроводжуватись відповідними підказками-поясненнями (бажано англійською мовою).\n",
        "\n",
        "2. Дані мають виводитись так, як показано нижче (з урахуванням кількості рядків та послідовності даних у кожному з них).\n",
        "\n",
        "3. Дані, виділені жирним шрифтом, повинні вводитись із клавіатури. Всього має бути 9 окремих команд введення даних\n",
        "\n",
        "4. Назви змінних повинні бути інформативними та оформленими відповідно до правил іменування змінних\n",
        "\n",
        "5. Додати 2 коментарі, що вказують на блоки введення та виведення даних.\n",
        "\n",
        "***Формат виведення даних:***\n",
        "\n",
        "(1) **Lucas** (2) **Diallo**\n",
        "\n",
        "(3) **3221234567**\n",
        "\n",
        "Str. (4) **Longue** (5) **3**, ap. (6) **5**, (7) **Bruxelles**\n",
        "\n",
        "(8) **1020**\n",
        "\n",
        "(9) **Belgium**"
      ]
    },
    {
      "cell_type": "code",
      "metadata": {
        "id": "hEJG5C3_fJk9",
        "tags": []
      },
      "source": [
        "# bloks input\n",
        "first_name = str(input('Enter first name : ')) \n",
        "last_name=str(input('Enter last name : ')) \n",
        "number_phone =str(input('number phone (only numbers are allowed): '))\n",
        "street = str(input('Enter street  : '))\n",
        "house= str(input('enter nomber of house  : '))\n",
        "flat  = str(input(' enter nomber of flat  : '))\n",
        "toun = str(input('Enter town : '))\n",
        "index  = str(input('Enter post index: '))\n",
        "country = str(input('Enter country: '))\n",
        "# bloks output\n",
        "print ( first_name + \"   \" + last_name ) \n",
        "print (number_phone)\n",
        "print (street +\"  \" + house + \"   \" + flat + \"  \" + toun  )\n",
        "print (index)\n",
        "print (country)"
      ],
      "execution_count": 33,
      "outputs": [
        {
          "output_type": "error",
          "ename": "SyntaxError",
          "evalue": "invalid syntax (&lt;ipython-input-33-692738593384&gt;, line 12)",
          "traceback": [
            "\u001b[1;36m  File \u001b[1;32m&quot;&lt;ipython-input-33-692738593384&gt;&quot;\u001b[1;36m, line \u001b[1;32m12\u001b[0m\n\u001b[1;33m    print (street +&quot;  &quot; + house + &quot;   &quot; + flat + &quot;  &quot; + toun   ) )\u001b[0m\n\u001b[1;37m                                                                 ^\u001b[0m\n\u001b[1;31mSyntaxError\u001b[0m\u001b[1;31m:\u001b[0m invalid syntax\n"
          ]
        }
      ]
    },
    {
      "cell_type": "markdown",
      "metadata": {
        "id": "WmnpKrmPf689"
      },
      "source": [
        "### **Завдання 2 (1,5 бали)**"
      ]
    },
    {
      "cell_type": "markdown",
      "metadata": {
        "id": "4n4p_pz7gFKM"
      },
      "source": [
        "Таблиця містить магнітуду землетрусів за шкалою Ріхтера та дескриптори, що їй відповідають.\n",
        "\n",
        "Магнітуда | Дескриптор\n",
        "--- | ---\n",
        "Менше, ніж 2 | Micro\n",
        "Від 2 до менше ніж 3 | Very minor\n",
        "Від 3 до менше ніж 4 | Minor\n",
        "Від 4 до менше ніж 5 | Light\n",
        "Від 5 до менше ніж 6 | Moderate\n",
        "Від 6 до менше ніж 7 | Strong\n",
        "Від 7 до менше ніж 8 | Major\n",
        "Від 8 до менше ніж 10 | Great\n",
        "10 та більше | Meteoric\n",
        "\n",
        "Напишіть програму, яка буде зчитувати магнітуду, введену користувачем, та виводити відповідний дескриптор як частину змістовного повідомлення. Наприклад, якщо користувач вводить 5.5, ваша програма повинна показати, що землетрус з такою магнітудою є помірним (moderate)."
      ]
    },
    {
      "cell_type": "code",
      "metadata": {
        "id": "Nv66Jkkpf-sI",
        "tags": []
      },
      "source": [
        "anter_magnitude = float(input(\"anter amplitude : \"  ))\n",
        "if (anter_magnitude < 2 ): \n",
        "    print (\"Micro\")\n",
        "elif (anter_magnitude < 3) and (anter_magnitude >= 2)  : \n",
        "    print (\"Very minor\")\n",
        "elif (anter_magnitude < 4) and (anter_magnitude >= 3)  : \n",
        "    print (\"Minor\")\n",
        "elif (anter_magnitude < 5) and (anter_magnitude >= 4)  : \n",
        "    print (\"Light\")\n",
        "elif (anter_magnitude < 6) and (anter_magnitude >= 5) : \n",
        "    print (\"Moderate\")\n",
        "elif (anter_magnitude < 7) and (anter_magnitude >= 6)  : \n",
        "    print (\"Strong\")\n",
        "elif (anter_magnitude < 8) and (anter_magnitude >= 7)  : \n",
        "    print (\"Major\")\n",
        "elif (anter_magnitude < 10) and (anter_magnitude  >= 8 ) : \n",
        "    print (\"Great\")\n",
        "elif  (anter_magnitude >= 10) : \n",
        "    print (\"Meteoric\")\n",
        "    \n",
        " \n",
        "\n"
      ],
      "execution_count": 60,
      "outputs": [
        {
          "output_type": "stream",
          "name": "stdout",
          "text": "Moderate\n"
        }
      ]
    },
    {
      "cell_type": "markdown",
      "metadata": {
        "id": "X8fC_GM_nMRi"
      },
      "source": [
        "### **Завдання 3 (бонусне, 1 бал)**"
      ]
    },
    {
      "cell_type": "markdown",
      "metadata": {
        "id": "b593txPwotgN"
      },
      "source": [
        "Часто говорять, що один календарний рік еквівалентний 7 рокам для собаки. Однак таке просте перетворення не враховує того, що собаки досягають повноліття приблизно у 2 роки. Тому деякі люди вважать, що краще рахувати кожен з перших двох календарних років як 10,5 років для собаки, а потім рахувати кожен наступний календарний рік як 4 роки для собаки.\n",
        "\n",
        "Напишіть програму, яка конвертує календарні роки у \"собачі\", як було показано в попередньому абзаці. Переконайтесь, що ваша програма працює правильно, конвертуючи перші два календарні роки та всі подальші. Ваша програма також повинна виводити повідомлення про помилку, якщо користувач введе від'ємне число."
      ]
    },
    {
      "cell_type": "code",
      "metadata": {
        "id": "PA_E_H0Zosu0",
        "tags": []
      },
      "source": [
        " dog_age = float(input('Enter human age to convert on the dogs age  (only numbers are allowed): '))\n",
        "if dog_age <= 2 and dog_age > 0:\n",
        "   print(\"converted age\" + dog_age*10,5)\n",
        "elif (dog_age <= 30) and (dog_age > 2) :\n",
        "     print(\"converted age\" + 2*10,5+(dog_age-2)*4)\n",
        "else : print ( \" Dogs or not live so long or yor are enter incorrect age \")      "
      ],
      "execution_count": 15,
      "outputs": [
        {
          "output_type": "stream",
          "name": "stdout",
          "text": " Dogs or not live so long or yor are enter incorrect age \n"
        }
      ]
    },
    {
      "cell_type": "code",
      "execution_count": null,
      "metadata": {},
      "outputs": [],
      "source": []
    },
    {
      "cell_type": "code",
      "execution_count": null,
      "metadata": {},
      "outputs": [],
      "source": []
    }
  ]
}