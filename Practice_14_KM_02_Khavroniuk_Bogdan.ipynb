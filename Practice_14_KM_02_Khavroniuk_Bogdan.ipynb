{
  "nbformat": 4,
  "nbformat_minor": 0,
  "metadata": {
    "colab": {
      "name": "Practice_14_KM_01.ipynb",
      "provenance": [],
      "collapsed_sections": []
    },
    "kernelspec": {
      "name": "python3",
      "display_name": "Python 3.7.9 64-bit",
      "metadata": {
        "interpreter": {
          "hash": "cbc1630f6ac27d00c9f4ea5ff59d07a3d2920d2fb3e683b05679c37215caa53f"
        }
      }
    }
  },
  "cells": [
    {
      "cell_type": "markdown",
      "metadata": {
        "id": "FMqboNwO4rVs"
      },
      "source": [
        "# **Курс \"Програмування на мові Python\"**\n",
        "\n",
        "##### Викладачі:\n",
        "##### Борисенко Павло Борисович\n",
        "##### Щьоголєв Максим Олегович\n"
      ]
    },
    {
      "cell_type": "markdown",
      "metadata": {
        "id": "A2T6MigL5Z06"
      },
      "source": [
        "## **Практичне зайняття №14**\n",
        "\n",
        "### Тема: \"Робота з файлами\""
      ]
    },
    {
      "cell_type": "markdown",
      "metadata": {
        "id": "cfCdgK2zXm7e"
      },
      "source": [
        "### **Завдання 1 (1,5 бали)**\n",
        "\n",
        "У 1939 році друком вийшов роман американського письменика Ернеста Вінсента Райта \"Ґедсбі\". Особливу увагу публіки він здобув через те, що письменник жодного разу не використав у романі літеру \"e\" (роман складається з більше ніж 50,000 слів), яка є найбільш вживаною літерою в англійській мові.\n",
        "\n",
        "Порахуйте кількість входжень кожної літери у текст роману. Виведіть список літер англійського алфавіту, а також інформацію про те, скільки відсотків від усіх літер тексту складає кожна літера алфавіту.\n",
        "\n",
        "Зауваження:\n",
        "\n",
        "1. Програма має ігнорувати будь-які символи, окрім літер.\n",
        "\n",
        "2. Переведіть усі літери у верхній або у нижній регістр.\n",
        "\n",
        "3. Під час виведення відсортуйте літери у порядку зменшення їхнього відсотка. Літера \"e\" має стояти на останньому місці у цьому списку.\n",
        "\n",
        "4. Виведіть перші 5 та останні 5 літер відсортованого списку разом з відсотковими значеннями, що їм відповідають."
      ]
    },
    {
      "cell_type": "code",
      "metadata": {
        "tags": [],
        "id": "u4-fHJJ6U462"
      },
      "source": [
        "import re\n",
        "with open('gadsby.txt', 'r') as f:\n",
        "    lines = f.readlines()\n",
        "    reg = re.compile('[^a-zA-Z]')\n",
        "    s = ''\n",
        "    letters=[]\n",
        "    numberintext=[]\n",
        "    for line in lines:\n",
        "         new_line= reg.sub('', line)\n",
        "\n",
        "         new_line = new_line.replace('\\t', '')\n",
        "\n",
        "         new_line = new_line.lower()\n",
        "\n",
        "         s+=new_line\n",
        "\n",
        "    for a in \"qwertyuiopasdfghjklzxcvbnm\":\n",
        "      b = s.count(a)\n",
        "\n",
        "      persent = round( round(b/(len(s)), 4)*100,3)\n",
        "\n",
        "      key = a\n",
        "\n",
        "      letters.append(str(key))\n",
        "\n",
        "      numberintext.append(persent)\n",
        "\n",
        "    dictionary_of_number_of_letters = list(zip(numberintext , letters))\n",
        "    for d in range(len(dictionary_of_number_of_letters)):\n",
        "        dictionary_of_number_of_letters = (sorted( dictionary_of_number_of_letters))\n",
        "        dictionary_of_number_of_letters.reverse()\n",
        "\n",
        "        \n",
        "    print(\"список 5 найпопулярніших  літер та відсотків їх використання\")\n",
        "    for a in dictionary_of_number_of_letters[:5] :\n",
        "        print(a[1],\"-\",a[0],\"%\")\n",
        "    print(\"список 5 найрідше вживаних  літер та відсотків їх використання\")\n",
        "    for b in dictionary_of_number_of_letters[-5:] :  \n",
        "        print(b[1],\"-\",b[0],\"%\")\n",
        "   "
      ],
      "execution_count": 94,
      "outputs": [
        {
          "output_type": "stream",
          "name": "stdout",
          "text": [
            "список 5 найпопулярніших  літер та відсотків їх використання\na - 10.89 %\no - 10.37 %\ni - 8.79 %\nn - 8.56 %\nt - 8.53 %\nсписок 5 найрідше вживаних  літер та відсотків їх використання\ne - 0.23 %\nj - 0.22 %\nz - 0.11 %\nx - 0.08 %\nq - 0.05 %\n"
          ]
        }
      ]
    },
    {
      "cell_type": "markdown",
      "metadata": {
        "id": "A34oz70eU463"
      },
      "source": [
        "### **Завдання 2 (1,5 бали)**\n",
        "\n",
        "Створіть CSV-файл, що буде містити від 5 до 10 пісень (творів) вашого улюбленого музиканта. Назва файлу - ім'я музиканта (композитора) або назва гурту.\n",
        "\n",
        "1. Обов'язково додайте до файлу рядок з назвами двох колонок (Song, Year) або (Composition, Year).\n",
        "\n",
        "2. Після запису файлу роздрукуйте назву файлу та усі наявні у файлі рядки (включно із заголовками).\n",
        "\n",
        "3. Для запису та зчитування рядків скористайтесь функціями csv.DictWriter() та csv.DictReader()."
      ]
    },
    {
      "cell_type": "code",
      "metadata": {
        "id": "MEJIrG1GU463"
      },
      "source": [
        "import csv\n",
        "\n",
        "print('Буерак','\\n')\n",
        "with open('Буерак', 'w', newline='') as csvfile:\n",
        "    fieldnames = ['Album', 'Year', ]\n",
        "    writer = csv.DictWriter(csvfile, fieldnames=fieldnames)\n",
        "    writer.writeheader()\n",
        "    writer.writerow({'Album':'Пролетариат', 'Year':'2015'})\n",
        "    writer.writerow({'Album':'Двойник', 'Year':'2015'})\n",
        "    writer.writerow({'Album':'Формы', 'Year':'2015'})\n",
        "    writer.writerow({'Album':'Танцы по расчёту ', 'Year':'2016'})\n",
        "    writer.writerow({'Album':'Скромные апартамены', 'Year':'2017'})\n",
        "    writer.writerow({'Album':'SEND NUDES', 'Year':'2019'})\n",
        "    reader = csv.DictReader(csvfile)\n",
        "with open('Буерак', newline='') as csvfile:  \n",
        "    reader = csv.DictReader(csvfile) \n",
        "    for heading in reader.fieldnames:\n",
        "        print(heading, end=' ')\n",
        "    print('\\n')\n",
        "    for row in reader:\n",
        "        print(row['Album'], row['Year'])\n",
        "\n",
        "\n",
        "   "
      ],
      "execution_count": 83,
      "outputs": [
        {
          "output_type": "stream",
          "name": "stdout",
          "text": [
            "Буерак \n\nAlbum Year \n\nПролетариат 2015\nДвойник 2015\nФормы 2015\nТанцы по расчёту  2016\nСкромные апартамены 2017\nSEND NUDES 2019\n"
          ]
        }
      ]
    },
    {
      "cell_type": "markdown",
      "metadata": {
        "id": "Jb-eSBsWU464"
      },
      "source": [
        "### **Завдання 3 (бонусне, 1 бал)**\n",
        "\n",
        "COCO Dataset - набір фотографій та анотацій до них. Його дуже часто використовують для тренування класифікаторів, призначених для розпізнавання об'єктів та визначення ключових точок на зображеннях.\n",
        "\n",
        "Завантажте файли з описом фотографій COCO Dataset за посиланням: http://images.cocodataset.org/annotations/image_info_test2017.zip\n",
        "\n",
        "1. Відкрийте файл image_info_test-dev2017.json. Інформація про фотографії з бази COCO міститься у полі \"images\". Інформація про категорії, на які розділені всі фотографії, міститься у полі \"categories\".\n",
        "\n",
        "2. Визначте кількість фотографій, інформацію про які можна знайти у цьому файлі (кількість елементів, що відповідають ключу \"images\").\n",
        "\n",
        "3. Визначте кількість наявних категорій (кількість елементів, що відповідають ключу \"categories\").\n",
        "\n",
        "4. Виведіть посилання на фотографію 000000000001.jpg (\"coco_url\"), висоту цієї фотографії (\"height\"), ширину (\"width\") та її ідентифікатор (\"id\").\n",
        "\n",
        "5. Опис структури JSON-файлу для набору фотографій COCO можна знайти за посиланням: https://cocodataset.org/#format-data\n",
        "\n",
        "6. Щоб перевірити правильність результатів, у VS Code встановіть розширення JSON та відкрийте файл image_info_test-dev2017.json. Розширення автоматично визначає кількість елементів у кожному полі."
      ]
    },
    {
      "cell_type": "code",
      "metadata": {
        "id": "74C6WKB_U464"
      },
      "source": [
        "\n",
        "\n",
        "import json\n",
        "\n",
        "path = 'image_info_test-dev2017.json'\n",
        "\n",
        "with open(path, 'r') as f:\n",
        "    data = json.loads(f.read())\n",
        "    print(len( data['images']))\n",
        "    print(len( data['categories']))\n",
        "    for i in range (0, len(data[\"images\"])):\n",
        "      if data[\"images\"][i].get(\"file_name\")==\"000000000001.jpg\":\n",
        "        print(\"coco_url:\",data[\"images\"][i].get(\"coco_url\"))\n",
        "        print(\"height:\",data[\"images\"][i].get(\"height\"))\n",
        "        print(\"width:\",data[\"images\"][i].get(\"width\"))\n",
        "        print(\"id:\",data[\"images\"][i].get(\"id\"))\n"
      ],
      "execution_count": 2,
      "outputs": [
        {
          "output_type": "stream",
          "name": "stdout",
          "text": [
            "20288\n80\ncoco_url: http://images.cocodataset.org/test2017/000000000001.jpg\nheight: 480\nwidth: 640\nid: 1\n"
          ]
        }
      ]
    },
    {
      "cell_type": "code",
      "execution_count": null,
      "metadata": {},
      "outputs": [],
      "source": []
    }
  ]
}