{
  "nbformat": 4,
  "nbformat_minor": 0,
  "metadata": {
    "colab": {
      "name": "Practice_10-11_KM_01_.ipynb",
      "provenance": [],
      "collapsed_sections": []
    },
    "kernelspec": {
      "name": "python3",
      "display_name": "Python 3.7.9 64-bit",
      "metadata": {
        "interpreter": {
          "hash": "cbc1630f6ac27d00c9f4ea5ff59d07a3d2920d2fb3e683b05679c37215caa53f"
        }
      }
    }
  },
  "cells": [
    {
      "cell_type": "markdown",
      "metadata": {
        "id": "FMqboNwO4rVs"
      },
      "source": [
        "# **Курс \"Програмування на мові Python\"**\n",
        "\n",
        "##### Викладачі:\n",
        "##### Борисенко Павло Борисович\n",
        "##### Щьоголєв Максим Олегович\n"
      ]
    },
    {
      "cell_type": "markdown",
      "metadata": {
        "id": "A2T6MigL5Z06"
      },
      "source": [
        "## **Практичні зайняття №10-11**\n",
        "\n",
        "### Тема: \"Ітератори та генератори. Декоратори\""
      ]
    },
    {
      "cell_type": "markdown",
      "metadata": {
        "id": "cfCdgK2zXm7e"
      },
      "source": [
        "### **Завдання 1 (2 бали)**\n",
        "\n",
        "Розрахуйте коефієнти розкладу біному Ньютона за допомогою генератора (https://uk.wikipedia.org/wiki/%D0%91%D1%96%D0%BD%D0%BE%D0%BC_%D0%9D%D1%8C%D1%8E%D1%82%D0%BE%D0%BD%D0%B0).\n",
        "\n",
        "1. Степінь многочлена користувач має вводити з клавіатури (невід'ємне ціле число).\n",
        "\n",
        "2. Програма має підраховувати біноміальні коефіцієнти для біномів усіх степенів, починаючи від 0 і закінчуючи тим, який ввів користувач.\n",
        "\n",
        "3. Коефіцієнти мають виводитись у вигляді трикутника Паскаля.\n",
        "\n",
        "Наприклад, якщо користувач введе число 5, програма має вивести результат:\n",
        "\n",
        "1\n",
        "\n",
        "1 1\n",
        "\n",
        "1 2 1\n",
        "\n",
        "1 3 3 1\n",
        "\n",
        "1 4 6 4 1\n",
        "\n",
        "1 5 10 10 5 1\n"
      ]
    },
    {
      "cell_type": "code",
      "metadata": {
        "id": "Bku8v9CjE_Qc"
      },
      "source": [
        "n = int(input(\"введыть бажану кількымть рядків\"))\n",
        "def pascal():\n",
        "    yield [1]\n",
        "    line = 2\n",
        "    while True:\n",
        "        list = []\n",
        "        for i in range(line):\n",
        "            if i == 0 or i == line-1:\n",
        "                list.insert(i, 1)\n",
        "            else:\n",
        "                list.insert(i, prev[i-1] + prev[i])\n",
        "        prev = list\n",
        "        line += 1\n",
        "        yield list\n",
        "pasc = pascal()\n",
        "for a in range(n+1):\n",
        "    print(pasc.__next__())\n"
      ],
      "execution_count": 1,
      "outputs": [
        {
          "output_type": "stream",
          "name": "stdout",
          "text": [
            "[1]\n[1, 1]\n[1, 2, 1]\n[1, 3, 3, 1]\n[1, 4, 6, 4, 1]\n[1, 5, 10, 10, 5, 1]\n"
          ]
        }
      ]
    },
    {
      "cell_type": "markdown",
      "metadata": {
        "id": "oqXwIz3iuPRe"
      },
      "source": [
        "### **Завдання 2 (4 бали)**\n",
        "\n",
        "Більшість друкованих книг (особливо це стосується книг у твердій палітурці) складаються із зошитів. Припустимо, що в друкарні текст друкується на листах паперу удвічі більших за звичайний книжковий формат. Потім ці листи складаються вдвічі, з них формуються зошити, які потім зшиваються у блок. Зшиті зошити зазвичай складаються з 8, 12 або 16 листів (відповідно 16, 24 або 32 сторінок) кожен.\n",
        "\n",
        "Розглянемо конкретний приклад. \n",
        "\n",
        "Припустимо, що кожен зшитий зошит нашої книги складається з 8 листів (16 сторінок). Якщо уявити великі листи, з яких потім складаються зошити, то на кожному таком листі буде по 4 сторінки книги. У нашій книзі таких великих листів буде 4. Розглянемо перший лист. З одного боку на ньому будуть надруковані сторінки 16 та 1, з іншого - 2 та 15. На другому листі з одного боку будуть надруковані сторінки 14 та 3, з іншого - 4 та 13.\n",
        "\n",
        "**Написати програму, яка визначатиме послідовність сторінок, що будуть надруковані на кожному великому листі.**\n",
        "\n",
        "1. Користувач має вводити з клавіатури три значення: кількість сторінок у книзі (не більше 1280), кількість сторінок у кожному зошиті цієї книги (потрібно буде обрати один з трьох варіантів: 16, 24 або 32) та параметр 0 або 1 (пояснення у п. 5).\n",
        "\n",
        "2. Зверніть увагу на те, що загальна кількість сторінок у книзі має бути кратною кількості сторінок у зошиті. Якщо користувач введе число, що не задовольняє цій умові, програма повинна припинити роботу або запропонувати користувачеві ввесте інше значення. Зауважте також, що 1280 не ділиться на 24.\n",
        "\n",
        "3. Зверніть увагу на те, що на великих листах поворот аркуша відбувається за коротким краєм. Отже, якщо з одного боку аркуша надруковано сторінки 16 та 1, то з іншого 2 та 15 (а не 15, 2), якщо дивитись зліва направо.\n",
        "\n",
        "4. Функція, яка визначатиме послідовність книжкових сторінок, має виводити на екран рядок за рядком номери сторінок кожного зошита, а також кількість зошитів у книзі.\n",
        "\n",
        "5. Створіть функцію-декоратор, яка прийматиме на вхід параметр 0 або 1, конвертований у False або True відповідно, та навісьте його на попередню функцію. Якщо параметр дорівнює False, додаткові функції декоратора не повинні виконуватись, тобто має виконатись лише функція з п. 4. Декоратор повинен створювати список усіх сторінок у потрібній послідовності, причому номери сторінок кожного зошита мають зберігатись в окремому вкладеному списку. Для 16-сторінкового зошита список повинен мати вигляд:\n",
        "\n",
        "`[[16, 1, 2, 15, 14, 3, 4, 13, ..., 10, 7, 8, 9], [32, 17, 18, 31, ...], ... ]`\n",
        "\n",
        "**Бонусне завдання (за бажанням)**\n",
        "\n",
        "6. Замість функції з п. 4 створіть генератор, який буде визначати послідовність книжкових сторінок для кожного зошита. Ці рядки можна потім вивести або у циклі, або за допомогою функції next(). Функція-декоратор має працювати з цим генератором так само, як і зі звичайною функцією."
      ]
    },
    {
      "cell_type": "code",
      "metadata": {
        "id": "yiRr2CqMWxLA"
      },
      "source": [
        "while True:\n",
        "    while True:\n",
        "        try:\n",
        "            number_of_pages = int(input(\"введіть бажану кількість сторінок \"))\n",
        "        except ValueError:\n",
        "            print(\"неправильний формат даних \")\n",
        "        else:\n",
        "            break\n",
        "    if number_of_pages > 1280 or number_of_pages % 16 != 0 and number_of_pages % 24 != 0 and number_of_pages % 32 != 0:\n",
        "         print(\"книжку з такою кількімтю сторінок не можливо надрукувати\")\n",
        "         while True:\n",
        "            try:\n",
        "                number_of_pages = int(input(\"введіть бажану кількість сторінок \"))\n",
        "            except ValueError:\n",
        "                print(\"неправильний формат даних \")\n",
        "            else:\n",
        "                break\n",
        "\n",
        "    else:\n",
        "        break\n",
        "\n",
        "while True:\n",
        "    while True:\n",
        "        try:\n",
        "            len_notebook = int(input(\n",
        "                \"введіть бажану кількість сторінок в зошиті якщо 16 натисніть 0 , 24 ннатисніть 1 , 32 натисніть 2 \"))\n",
        "        except ValueError:\n",
        "            print(\"неправильний формат даних \")\n",
        "        else:\n",
        "            break\n",
        "    if len_notebook not in range(2):\n",
        "         print(\"не було такого варінту вибору\")\n",
        "         while True:\n",
        "            try:\n",
        "                len_notebook = int(input(\"введіть бажану кількість сторінок в зошиті якщо 16 натисніть 0 , 24 ннатисніть 1 , 32 натисніть 2 \"))\n",
        "            except ValueError:\n",
        "                print(\"неправильний формат даних \")\n",
        "            else:\n",
        "                break\n",
        "    else:\n",
        "        break\n",
        "\n",
        "while True:\n",
        "    while True:\n",
        "        try:\n",
        "            parametr = int(input(\"введіть параметр 0 чи 1 \"))\n",
        "        except ValueError:\n",
        "            print(\"неправильний формат даних \")\n",
        "        else:\n",
        "            break\n",
        "    if parametr not in range(2):\n",
        "        print(\"не було такого варінту вибору\")\n",
        "        while True:\n",
        "            try:\n",
        "                parametr = int(input(\"введіть параметр 0 чи 1\"))\n",
        "            except ValueError:\n",
        "                print(\"неправильний формат даних \")\n",
        "            else:\n",
        "                break\n",
        "    else:\n",
        "        break\n",
        "parametr = bool(parametr)\n",
        "if len_notebook == 0:\n",
        "    len_notebook = 16\n",
        "\n",
        "if len_notebook == 1:\n",
        "    len_notebook = 24\n",
        "\n",
        "if len_notebook == 2:\n",
        "    len_notebook = 32\n",
        "\n",
        "\n",
        "def decorator(number_of_pages, len_notebook, parametr):\n",
        "    def new_decorator(function):\n",
        "        if parametr:\n",
        "            general_list = function(number_of_pages, len_notebook)\n",
        "            print(\"\\n\", general_list , sep='')\n",
        "        else:\n",
        "            func(number_of_pages, len_notebook)\n",
        "\n",
        "    return new_decorator\n",
        "\n",
        "\n",
        "@decorator(number_of_pages, len_notebook, parametr)\n",
        "def generator_0f_list(number_of_pages, len_notebook):\n",
        "    a = int(number_of_pages / len_notebook)\n",
        "    print('кылькысть зошитів у книжці', a)\n",
        "\n",
        "    general_list = []\n",
        "\n",
        "    for b in range(a):\n",
        "        list1 = []\n",
        "\n",
        "        for j in range(int(len_notebook / 4)):\n",
        "\n",
        "            list1.append(len_notebook - (j * 2) + len_notebook * b)\n",
        "\n",
        "            list1.append((j + 1) + j + len_notebook * b)\n",
        "\n",
        "            list1.append((j + 2) + j + len_notebook * b)\n",
        "\n",
        "            list1.append(len_notebook - 1 - (j * 2) + len_notebook * b)\n",
        "        general_list.append(list1)\n",
        "    for a in range(len(general_list)):\n",
        "        print(general_list[a], \"це \" , a+1 ,\" зошит \")"
      ],
      "execution_count": 0,
      "outputs": []
    },
    {
      "cell_type": "code",
      "execution_count": 10,
      "metadata": {},
      "outputs": [
        {
          "output_type": "stream",
          "name": "stdout",
          "text": [
            "<generator object <genexpr> at 0x000001873A29BC48>\n"
          ]
        }
      ],
      "source": [
        "\n"
      ]
    },
    {
      "cell_type": "code",
      "execution_count": 11,
      "metadata": {},
      "outputs": [
        {
          "output_type": "error",
          "ename": "SyntaxError",
          "evalue": "invalid syntax (<ipython-input-11-a49986c39094>, line 2)",
          "traceback": [
            "\u001b[1;36m  File \u001b[1;32m\"<ipython-input-11-a49986c39094>\"\u001b[1;36m, line \u001b[1;32m2\u001b[0m\n\u001b[1;33m    def creatorofsmalllist(len_notebook)\u001b[0m\n\u001b[1;37m                                        ^\u001b[0m\n\u001b[1;31mSyntaxError\u001b[0m\u001b[1;31m:\u001b[0m invalid syntax\n"
          ]
        }
      ],
      "source": []
    },
    {
      "cell_type": "code",
      "execution_count": null,
      "metadata": {},
      "outputs": [],
      "source": []
    }
  ]
}